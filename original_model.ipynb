{
 "cells": [
  {
   "cell_type": "code",
   "execution_count": 1,
   "metadata": {},
   "outputs": [],
   "source": [
    "import matplotlib.pyplot as plt\n",
    "import numpy as np\n",
    "from scipy.integrate import solve_ivp\n",
    "\n",
    "%matplotlib inline"
   ]
  },
  {
   "cell_type": "code",
   "execution_count": 1,
   "metadata": {},
   "outputs": [],
   "source": [
    "# ****CONSTANTS****\n",
    "T = 298 #(*Cell temp. in Kelvin*)\n",
    "R = 0.0083 #(*kJ/M/K*)\n",
    "F = 0.0965 #(*kJ/M/mV*)\n",
    "S = 2.303*R*T\n",
    "Z = 2.303*R*T/F\n",
    "u = 0.861 #(* u=\\[CapitalDelta]\\[Psi]/\\[CapitalDelta]p *)"
   ]
  },
  {
   "cell_type": "code",
   "execution_count": 5,
   "metadata": {},
   "outputs": [],
   "source": [
    "# (****PARAMETERS****)\n",
    "r_cm = 3.35 # (*cell volume / mt volume ratio*)\n",
    "b_N = 5 # (*buffering capacity coefficient for NAD*)\n",
    "c_t = 270 # (*total concentration of cytochrome c in uM*)\n",
    "ubq_t = 1350 # (*total concentration of ubiquinone in uM*)\n",
    "n_t = 2970 # (*total concentration of NAD in uM*)\n",
    "k_DH = 96293 # (*Substrate dehydrogenation parameters in uM/min*)\n",
    "k_mN = 100\n",
    "p_D = 0.8 # (*Dehydrogenation sensitivity to NAD ratio*)\n",
    "k_C1 = 819.61 # (*in uM/mV/min*)\n",
    "k_C3 = 467.90 # (*in uM/mV/min*)\n",
    "k_C4 = 12.348 # (*in uM/min*)\n",
    "k_mO = 120 # (*uM_apparent k_mO]=0.8 uM*)\n",
    "k_SN = 117706 # (*in uM/min*)\n",
    "k_EX = 187185 # (*in uM/min*)\n",
    "k_mADP = 3.5 # (*uM*)\n",
    "k_PI = 238.11 # (*in /uM/min*)\n",
    "k_UT = 12244 # (*ATP usage rate in uM/min# 12244(low work)-61220(high work)*)\n",
    "k_mA = 150 # (*uM*)\n",
    "k_LK1 = 8.5758 # (*normally 8.5758 in uM/min*)\n",
    "k_LK2 = 0.038\n",
    "k_fAK = 862.10 # (*adenylate kinase forward rate constant in uM/min*)\n",
    "k_bAK = 22.747 # (*adenylate kinase reverse rate constant in uM/min*)\n",
    "k_fCK = 1.9258 # (*creatine kinase forward rate constant in uM/min# times \\ 0.656 for CHF (Weiss et al. (2005)*)\n",
    "k_bCK = 0.00087538 # (*creatine kinase reverse rate constant in uM/min*)\n",
    "a_eSUM = 6700.2 # (*uM_total cytosolic adenine nucleotide conc.*)\n",
    "a_iSUM = 16260 # (*uM_total mitochondrial adenine nucleotide conc.*)\n",
    "c_SUM = 25000 # (*total creatine concentration_Normal: 25000 (orig. model)_\\ CHF: 16100 (Weiss et al. (2005)*)\n",
    "p_SUM = 45582#(*total phosphate pool_not actually used!!*)\n",
    "mg_fe = 4000 # (*uM_free cytosolic magnesium conc.*)\n",
    "mg_fi = 380 # (*uM_free mt. magnesium conc.*)\n",
    "k_DTe = 24 # (*uM_Mg diss. const. for cyt. ATP*)\n",
    "k_DDe = 347 # (*uM_Mg diss. const. for cyt. ADP*)\n",
    "k_DTi = 17 # (*uM_Mg diss. const. for mt. ATP*)\n",
    "k_DDi = 282 # (*uM_Mg diss. const. for mt. ADP*)\n",
    "pH_e = 7.0\n",
    "h_e = 1000000*pow(10, (-pH_e))\n",
    "dpH = 0.001\n",
    "c_buffi = 0.022 # (* moles of protons/pH unit_buffer capacity of matrix*)\n",
    "pK_a = 6.8 # (*phosphate proton-buffering midpoint*)\n",
    "n_A = 2.5 # (*H+/ATP stoichiometry of the synthase*)\n",
    "deltaG_P0 = 31.9 # (*kJ/mol*)\n",
    "e_mN0 = -320 # (*standard redox potential of NAD couple_in mV*)\n",
    "e_mU0 = 85 # (*standard redox potential of UQ couple_in mV*)\n",
    "e_mc0 = 250 # (*standard redox potential of cyt. c couple_in mV*)\n",
    "a_t = 135 # (*total conc. of cyt. a_in uM*)\n",
    "e_ma0 = 540 # (*standard redox potential of cyt. a couple_in mV*)"
   ]
  },
  {
   "cell_type": "code",
   "execution_count": 7,
   "metadata": {},
   "outputs": [
    {
     "data": {
      "text/plain": [
       "7.0"
      ]
     },
     "execution_count": 7,
     "metadata": {},
     "output_type": "execute_result"
    }
   ],
   "source": [
    "pH_e"
   ]
  },
  {
   "cell_type": "code",
   "execution_count": null,
   "metadata": {},
   "outputs": [],
   "source": []
  }
 ],
 "metadata": {
  "kernelspec": {
   "display_name": "Python (pytochondrion)",
   "language": "python",
   "name": "pytochondrion"
  },
  "language_info": {
   "codemirror_mode": {
    "name": "ipython",
    "version": 3
   },
   "file_extension": ".py",
   "mimetype": "text/x-python",
   "name": "python",
   "nbconvert_exporter": "python",
   "pygments_lexer": "ipython3",
   "version": "3.10.9"
  },
  "orig_nbformat": 4,
  "vscode": {
   "interpreter": {
    "hash": "fa03522869205d2e6354272d1255c1a94cbd1be93f130ddf2be1804f6620a99b"
   }
  }
 },
 "nbformat": 4,
 "nbformat_minor": 2
}
