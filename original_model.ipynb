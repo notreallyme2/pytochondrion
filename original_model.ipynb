{
 "cells": [
  {
   "cell_type": "code",
   "execution_count": 16,
   "metadata": {},
   "outputs": [
    {
     "data": {
      "text/plain": [
       "'3.10.9 (main, Dec 15 2022, 10:44:50) [Clang 14.0.0 (clang-1400.0.29.202)]'"
      ]
     },
     "execution_count": 16,
     "metadata": {},
     "output_type": "execute_result"
    }
   ],
   "source": [
    "import sys\n",
    "sys.version"
   ]
  },
  {
   "cell_type": "code",
   "execution_count": 17,
   "metadata": {},
   "outputs": [],
   "source": [
    "import matplotlib.pyplot as plt\n",
    "import numpy as np\n",
    "from scipy.integrate import solve_ivp\n",
    "\n",
    "from typing import List\n",
    "\n",
    "%matplotlib inline"
   ]
  },
  {
   "cell_type": "code",
   "execution_count": 18,
   "metadata": {},
   "outputs": [],
   "source": [
    "# ****CONSTANTS****\n",
    "T = 298 #(*Cell temp. in Kelvin*)\n",
    "R = 0.0083 #(*kJ/M/K*)\n",
    "F = 0.0965 #(*kJ/M/mV*)\n",
    "S = 2.303*R*T\n",
    "Z = 2.303*R*T/F\n",
    "u = 0.861 #(* u=\\[CapitalDelta]\\[Psi]/\\[CapitalDelta]p *)"
   ]
  },
  {
   "cell_type": "code",
   "execution_count": 90,
   "metadata": {},
   "outputs": [],
   "source": [
    "# (****PARAMETERS****)\n",
    "r_cm = 3.35 # (*cell volume / mt volume ratio*)\n",
    "b_N = 5 # (*buffering capacity coefficient for NAD*)\n",
    "c_t = 270 # (*total concentration of cytochrome c in uM*)\n",
    "ubq_t = 1350 # (*total concentration of ubiquinone in uM*)\n",
    "n_t = 2970 # (*total concentration of NAD in uM*)\n",
    "\n",
    "p_D = 0.8 # (*Dehydrogenation sensitivity to NAD ratio*)\n",
    "\n",
    "k_DH = 96293 # (*Substrate dehydrogenation parameters in uM/min*)\n",
    "k_mN = 100\n",
    "k_C1 = 819.61 # (*in uM/mV/min*)\n",
    "k_C3 = 467.90 # (*in uM/mV/min*)\n",
    "k_C4 = 12.348 # (*in uM/min*)\n",
    "k_mO = 120 # (*uM_apparent k_mO]=0.8 uM*)\n",
    "k_SN = 117706 # (*in uM/min*)\n",
    "k_EX = 187185 # (*in uM/min*)\n",
    "k_mADP = 3.5 # (*uM*)\n",
    "k_PI = 238.11 # (*in /uM/min*)\n",
    "k_UT = 12244 # (*ATP usage rate in uM/min# 12244(low work)-61220(high work)*)\n",
    "k_mA = 150 # (*uM*)\n",
    "k_LK1 = 8.5758 # (*normally 8.5758 in uM/min*)\n",
    "k_LK2 = 0.038\n",
    "k_fAK = 862.10 # (*adenylate kinase forward rate constant in uM/min*)\n",
    "k_bAK = 22.747 # (*adenylate kinase reverse rate constant in uM/min*)\n",
    "k_fCK = 1.9258 # (*creatine kinase forward rate constant in uM/min# times \\ 0.656 for CHF (Weiss et al. (2005)*)\n",
    "k_bCK = 0.00087538 # (*creatine kinase reverse rate constant in uM/min*)\n",
    "\n",
    "a_eSUM = 6700.2 # (*uM_total cytosolic adenine nucleotide conc.*)\n",
    "a_iSUM = 16260 # (*uM_total mitochondrial adenine nucleotide conc.*)\n",
    "c_SUM = 25000 # (*total creatine concentration_Normal: 25000 (orig. model)_\\ CHF: 16100 (Weiss et al. (2005)*)\n",
    "p_SUM = 45582#(*total phosphate pool_not actually used!!*)\n",
    "mg_fe = 4000 # (*uM_free cytosolic magnesium conc.*)\n",
    "mg_fi = 380 # (*uM_free mt. magnesium conc.*)\n",
    "k_DTe = 24 # (*uM_Mg diss. const. for cyt. ATP*)\n",
    "k_DDe = 347 # (*uM_Mg diss. const. for cyt. ADP*)\n",
    "k_DTi = 17 # (*uM_Mg diss. const. for mt. ATP*)\n",
    "k_DDi = 282 # (*uM_Mg diss. const. for mt. ADP*)\n",
    "pH_e = 7.0\n",
    "h_e = 1000000 * 10**(-pH_e)\n",
    "dpH = 0.001\n",
    "c_buffi = 0.022 # (* moles of protons/pH unit_buffer capacity of matrix*)\n",
    "pK_a = 6.8 # (*phosphate proton-buffering midpoint*)\n",
    "n_A = 2.5 # (*H+/ATP stoichiometry of the synthase*)\n",
    "deltaG_P0 = 31.9 # (*kJ/mol*)\n",
    "e_mN0 = -320 # (*standard redox potential of NAD couple_in mV*)\n",
    "e_mU0 = 85 # (*standard redox potential of UQ couple_in mV*)\n",
    "e_mc0 = 250 # (*standard redox potential of cyt. c couple_in mV*)\n",
    "a_t = 135 # (*total conc. of cyt. a_in uM*)\n",
    "e_ma0 = 540 # (*standard redox potential of cyt. a couple_in mV*)"
   ]
  },
  {
   "cell_type": "code",
   "execution_count": 111,
   "metadata": {},
   "outputs": [],
   "source": [
    "def mitochondrial_simulator(t, Y):\n",
    "    \n",
    "    \"\"\"\n",
    "    A simulator of mitochondrial energetics\n",
    "    Returns a list of vectors, each containing the estimated values for each function with the range of t\n",
    "    Parameters\n",
    "    ----------\n",
    "    Y : list(float)\n",
    "    A vector of initial values\n",
    "    t : list(float)\n",
    "    A range of times\n",
    "    \"\"\"\n",
    "    \n",
    "   # initial values\n",
    "    nadh_0 = Y[0]\n",
    "    uqh_0 = Y[1]\n",
    "    c2plus_0 = Y[2]\n",
    "    o2_0 = Y[3]\n",
    "    h_i_0 = Y[4]\n",
    "    atp_ti_0 = Y[5]\n",
    "    pi_ti_0 = Y[6]\n",
    "    atp_te_0 = Y[7]\n",
    "    adp_te_0 = Y[8]\n",
    "    pi_te_0 = Y[9]\n",
    "    pcr_0 = Y[10]\n",
    "    \n",
    "    # additional kinetic equations & calculations\n",
    "    adp_ti = a_iSUM - atp_ti_0\n",
    "    atp_fe = atp_te_0 / (1 + mg_fe / k_DTe)\n",
    "    nad = n_t - nadh_0\n",
    "    v_DH = k_DH * ( 1/(1 + k_mN) / ((nad/nadh_0)**p_D) ) # (*Substrate dehydrogenation*)\n",
    "    uq = ubq_t - uqh_0\n",
    "    c3plus = c_t - c2plus_0\n",
    "    e_mN = e_mN0 + ((Z/2) * np.log10(nad / nadh_0))\n",
    "    e_mU = e_mU0 + ((Z/2) * np.log10(uq / uqh_0))\n",
    "    e_mc = e_mc0 + Z * np.log10(c3plus / c2plus_0)\n",
    "    pH_i = -np.log10(h_i_0 / 1000000)\n",
    "    deltapH = Z*(pH_i - pH_e)\n",
    "    deltap = (1 / (1 - u)) * deltapH\n",
    "    e_ma = e_mc + deltap*(2 + (2 * u)) / 2\n",
    "    a_3over2 = 10**((e_ma - e_ma0) / Z) # (*a3plus/a2plus ratio*)\n",
    "    a2plus = a_t / (1 + a_3over2)\n",
    "    a3plus = a_t - a2plus\n",
    "    delta_psi = -(deltap - deltapH)\n",
    "    deltaG_C1 = e_mU - e_mN - deltap * 4/2\n",
    "    deltaG_C3 = e_mc - e_mU - deltap * (4 - 2*u) / 2\n",
    "    deltaG_P = deltaG_P0 / F + Z * np.log10(1000000*atp_ti_0 / (adp_ti * pi_ti_0));\n",
    "    deltaG_SN = n_A * deltap - deltaG_P\n",
    "    v_C1 = k_C1 * deltaG_C1 # (*Complex I*)\n",
    "    v_C3 = k_C3 * deltaG_C3 #\n",
    "    v_C4 = k_C4 * a2plus * c2plus_0 * 1/(1 + k_mO/o2_0)\n",
    "    gamma = 10**(deltaG_SN/Z)\n",
    "    v_SN = k_SN * (gamma - 1)/(gamma + 1) # (*ATP Synthase*)\n",
    "    v_LK = k_LK1 * (np.exp(k_LK2 * deltap) - 1) # (*Proton leak*)\n",
    "    atp_me = atp_te_0 - atp_fe\n",
    "    adp_fe = adp_te_0 /(1 + mg_fe / k_DDe)\n",
    "    adp_me = adp_te_0 - adp_fe\n",
    "    atp_fi = atp_ti_0 / (1 + mg_fi / k_DTi)\n",
    "    atp_mi = atp_ti_0 - atp_fi\n",
    "    amp_e = a_eSUM - atp_te_0 - adp_te_0\n",
    "    cr = c_SUM - pcr_0\n",
    "    psi_i = 0.65 * delta_psi\n",
    "    psi_e = -0.35 * delta_psi\n",
    "    pi_je = pi_te_0 / (1 + 10**(pH_e - pK_a))\n",
    "    pi_ji = pi_ti_0/(1 + 10**(pH_i - pK_a))\n",
    "    adp_fi = adp_ti / (1 + mg_fi / k_DDi)\n",
    "    adp_mi = adp_ti - adp_fi\n",
    "    v_AK = (k_fAK * adp_fe * adp_me) - (k_bAK * atp_me * amp_e) # (*adenylate kinase*)\n",
    "    v_CK = (k_fCK * adp_te_0 * pcr_0 * h_e) - (k_bCK * atp_te_0 * cr) # (*creatine kinase*)\n",
    "    v_EX = k_EX * (adp_fe / (adp_fe + atp_fe * 10**(-psi_e / Z)) - adp_fi / (adp_fi + atp_fi * 10**(-psi_i / Z))) * (1/(1 + k_mADP/adp_fe)) # (*ANT*)\n",
    "    v_PI = k_PI * (pi_je * h_e - pi_ji * h_i_0) # (*phosphate transporter*)\n",
    "    v_UT = k_UT * 1/(1 + k_mA / atp_te_0) # (*ATP usage*)\n",
    "    atp_tot = (atp_ti_0 / r_cm) + atp_te_0 # (*calculates total cell [ATP]*)\n",
    "    pi_tot = (pi_ti_0 / r_cm) + pi_te_0 # (*calculates total cell [Pi]*)\n",
    "    adp_tot = (adp_ti / r_cm) + adp_te_0 # (*calculates total cell [ADP]*)\n",
    "    c_0i = (10**(-pH_i) - 10**((-pH_i) - dpH)) / dpH # (*natural buffer capacity in matrix*)\n",
    "    c_0e = (10**(-pH_e) - 10**((-pH_e) - dpH)) / dpH # (*natural buffer capacity in cytosol*)\n",
    "    r_buffi = c_buffi / c_0i # (*buffering capacity coefficient for matrix*)\n",
    "    \n",
    "    # differential equations\n",
    "    f0 = (v_DH - v_C1) * r_cm / b_N # nadh_of_t\n",
    "    f1 = (v_C1 - v_C3) * r_cm # uqh_of_t\n",
    "    f2 = (v_C3 - 2 * v_C4) * 2 * r_cm # c2plus_of_t\n",
    "    f3 = 0 # # (*or o2'[t]\\[Equal]-v_C4]*) # o2_of_t\n",
    "    f4 = -((2 * (2 + 2 * u) * v_C4) + ((4 - 2*u)*v_C3) + (4 * v_C1) - (n_A * v_SN) - (u * v_EX) - ((1 - u) * v_PI) - (v_LK)) * r_cm / r_buffi # h_i_of_t \n",
    "    f5 = (v_SN - v_EX) * r_cm # atp_ti_of_t\n",
    "    f6 = (v_PI - v_SN) * r_cm # pi_ti_of_t\n",
    "    f7 = (v_EX - v_UT + v_AK + v_CK) # atp_te_of_t\n",
    "    f8 = (v_UT - v_EX - (2 * v_AK) - v_CK) # adp_te_of_t\n",
    "    f9 = (v_UT - v_PI) # pi_te_of_t\n",
    "    f10 = -v_CK # pcr_of_t\n",
    "    \n",
    "    return [f0, f1, f2, f3, f4, f5, f6, f7, f8, f9, f10]"
   ]
  },
  {
   "cell_type": "code",
   "execution_count": 105,
   "metadata": {},
   "outputs": [
    {
     "data": {
      "text/plain": [
       "[822, 1143, 60.89, 240, 0.037, 6987, 7020, 6668, 31.7, 2599, 12219]"
      ]
     },
     "execution_count": 105,
     "metadata": {},
     "output_type": "execute_result"
    }
   ],
   "source": [
    "# initial values (*from BK*)\n",
    "nadh_0 = 822\n",
    "uqh_0 = 1143\n",
    "c2plus_0 = 60.89\n",
    "o2_0 = 240 # (*from BK (1991)*)\n",
    "h_i_0 = 0.037\n",
    "atp_ti_0 = 6987\n",
    "pi_ti_0 = 7020\n",
    "atp_te_0 = 6668\n",
    "adp_te_0 = 31.7\n",
    "pi_te_0 = 2599\n",
    "pcr_0 = 12219\n",
    "\n",
    "Y_0 = [nadh_0, uqh_0, c2plus_0, o2_0, h_i_0, atp_ti_0, pi_ti_0, atp_te_0, adp_te_0, pi_te_0, pcr_0]\n",
    "Y_0\n",
    "# t  = np.linspace(0, .05, 10)"
   ]
  },
  {
   "cell_type": "code",
   "execution_count": 113,
   "metadata": {},
   "outputs": [
    {
     "name": "stderr",
     "output_type": "stream",
     "text": [
      "/var/folders/46/s5qdz_9d0_bbf06ytkft8v040000gp/T/ipykernel_10656/3340611816.py:36: RuntimeWarning: invalid value encountered in log10\n",
      "  e_mc = e_mc0 + Z * np.log10(c3plus / c2plus_0)\n",
      "/var/folders/46/s5qdz_9d0_bbf06ytkft8v040000gp/T/ipykernel_10656/3340611816.py:47: RuntimeWarning: invalid value encountered in log10\n",
      "  deltaG_P = deltaG_P0 / F + Z * np.log10(1000000*atp_ti_0 / (adp_ti * pi_ti_0));\n"
     ]
    }
   ],
   "source": [
    "soln = solve_ivp(mitochondrial_simulator, [0, 0.01], Y_0)"
   ]
  },
  {
   "cell_type": "code",
   "execution_count": 115,
   "metadata": {},
   "outputs": [
    {
     "data": {
      "text/plain": [
       "  message: The solver successfully reached the end of the integration interval.\n",
       "  success: True\n",
       "   status: 0\n",
       "        t: [ 0.000e+00  1.713e-05 ...  9.991e-03  1.000e-02]\n",
       "        y: [[ 8.220e+02  8.220e+02 ...  7.920e+02  7.920e+02]\n",
       "            [ 1.143e+03  1.143e+03 ...  1.134e+03  1.134e+03]\n",
       "            ...\n",
       "            [ 2.599e+03  2.599e+03 ...  2.597e+03  2.597e+03]\n",
       "            [ 1.222e+04  1.222e+04 ...  1.222e+04  1.222e+04]]\n",
       "      sol: None\n",
       " t_events: None\n",
       " y_events: None\n",
       "     nfev: 3404\n",
       "     njev: 0\n",
       "      nlu: 0"
      ]
     },
     "execution_count": 115,
     "metadata": {},
     "output_type": "execute_result"
    }
   ],
   "source": [
    "soln"
   ]
  },
  {
   "cell_type": "code",
   "execution_count": 118,
   "metadata": {},
   "outputs": [],
   "source": [
    "Y, t = soln['y'], soln['t']"
   ]
  },
  {
   "cell_type": "code",
   "execution_count": 122,
   "metadata": {},
   "outputs": [
    {
     "data": {
      "text/plain": [
       "[<matplotlib.lines.Line2D at 0x2af55c5b0>]"
      ]
     },
     "execution_count": 122,
     "metadata": {},
     "output_type": "execute_result"
    },
    {
     "data": {
      "image/png": "[encoded data removed]",
      "text/plain": [
       "<Figure size 640x480 with 1 Axes>"
      ]
     },
     "metadata": {},
     "output_type": "display_data"
    }
   ],
   "source": [
    "plt.plot(t, Y[4])"
   ]
  },
  {
   "cell_type": "code",
   "execution_count": null,
   "metadata": {},
   "outputs": [],
   "source": []
  }
 ],
 "metadata": {
  "kernelspec": {
   "display_name": "Python (pytochondrion)",
   "language": "python",
   "name": "pytochondrion"
  },
  "language_info": {
   "codemirror_mode": {
    "name": "ipython",
    "version": 3
   },
   "file_extension": ".py",
   "mimetype": "text/x-python",
   "name": "python",
   "nbconvert_exporter": "python",
   "pygments_lexer": "ipython3",
   "version": "3.10.9"
  },
  "vscode": {
   "interpreter": {
    "hash": "fa03522869205d2e6354272d1255c1a94cbd1be93f130ddf2be1804f6620a99b"
   }
  }
 },
 "nbformat": 4,
 "nbformat_minor": 4
}
